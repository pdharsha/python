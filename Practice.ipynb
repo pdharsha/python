{
  "nbformat": 4,
  "nbformat_minor": 0,
  "metadata": {
    "colab": {
      "name": "Practice",
      "provenance": [],
      "collapsed_sections": [],
      "toc_visible": true,
      "authorship_tag": "ABX9TyMIYo/aFLD21YKc/XD81rqe",
      "include_colab_link": true
    },
    "kernelspec": {
      "name": "python3",
      "display_name": "Python 3"
    },
    "language_info": {
      "name": "python"
    }
  },
  "cells": [
    {
      "cell_type": "markdown",
      "metadata": {
        "id": "view-in-github",
        "colab_type": "text"
      },
      "source": [
        "<a href=\"https://colab.research.google.com/github/pdharsha/python/blob/master/Practice.ipynb\" target=\"_parent\"><img src=\"https://colab.research.google.com/assets/colab-badge.svg\" alt=\"Open In Colab\"/></a>"
      ]
    },
    {
      "cell_type": "code",
      "execution_count": 1,
      "metadata": {
        "id": "KDte-XVfM5qC"
      },
      "outputs": [],
      "source": [
        "import pandas as pd"
      ]
    },
    {
      "cell_type": "code",
      "source": [
        "#import warnings\n",
        "import warnings\n",
        "warnings.filterwarnings(\"ignore\")"
      ],
      "metadata": {
        "id": "mLFbyrooOUsp"
      },
      "execution_count": 2,
      "outputs": []
    },
    {
      "cell_type": "code",
      "source": [
        "#Setting Notebook\n",
        "pd.set_option('display.max_rows',500)\n",
        "pd.set_option('display.max_columns',500)\n",
        "pd.set_option('display.width',1000)\n",
        "pd.set_option('display.expand_frame_repr',False)"
      ],
      "metadata": {
        "id": "PI9VVJBJOna1"
      },
      "execution_count": 3,
      "outputs": []
    },
    {
      "cell_type": "code",
      "source": [
        "#importing dataset\n",
        "ap_data=pd.read_csv('application_data.csv')\n",
        "ap_prev=pd.read_csv('previous_application.csv')"
      ],
      "metadata": {
        "id": "4wN1axxlPNLo"
      },
      "execution_count": 4,
      "outputs": []
    },
    {
      "cell_type": "code",
      "source": [
        "#Understanding application dataset\n",
        "print('Number of rows & columns in application dataset ',ap_data.shape)\n",
        "print('Number of rows & columns in previous application dataset ',ap_prev.shape)\n"
      ],
      "metadata": {
        "colab": {
          "base_uri": "https://localhost:8080/"
        },
        "id": "rGyeoQq6ZIiz",
        "outputId": "4743e5bf-6076-42e5-9fcf-4852f0c31459"
      },
      "execution_count": 11,
      "outputs": [
        {
          "output_type": "stream",
          "name": "stdout",
          "text": [
            "Number of rows & columns in application dataset  (307511, 122)\n",
            "Number of rows & columns in previous application dataset  (1048575, 37)\n"
          ]
        }
      ]
    },
    {
      "cell_type": "code",
      "source": [
        "#Checking information of all columns\n",
        "ap_data.info()"
      ],
      "metadata": {
        "colab": {
          "base_uri": "https://localhost:8080/"
        },
        "id": "MDM_JtfFZvnP",
        "outputId": "a5575b5d-fc64-444d-9cc2-887b9b90e881"
      },
      "execution_count": 19,
      "outputs": [
        {
          "output_type": "stream",
          "name": "stdout",
          "text": [
            "<class 'pandas.core.frame.DataFrame'>\n",
            "RangeIndex: 307511 entries, 0 to 307510\n",
            "Columns: 122 entries, ad_sk_id_curr_ct to ad_amt_req_credit_bureau_year_ct\n",
            "dtypes: float64(65), int64(41), object(16)\n",
            "memory usage: 286.2+ MB\n"
          ]
        }
      ]
    },
    {
      "cell_type": "code",
      "source": [
        "#Checking information of all columns\n",
        "ap_prev.info()"
      ],
      "metadata": {
        "colab": {
          "base_uri": "https://localhost:8080/"
        },
        "id": "TdwxJMWLasPC",
        "outputId": "e2ac8614-3220-4f1f-d40d-cffe9277f3aa"
      },
      "execution_count": 18,
      "outputs": [
        {
          "output_type": "stream",
          "name": "stdout",
          "text": [
            "<class 'pandas.core.frame.DataFrame'>\n",
            "RangeIndex: 1048575 entries, 0 to 1048574\n",
            "Data columns (total 37 columns):\n",
            " #   Column                             Non-Null Count    Dtype  \n",
            "---  ------                             --------------    -----  \n",
            " 0   ad_sk_id_prev _ct                  1048575 non-null  int64  \n",
            " 1   ad_sk_id_curr_ct                   1048575 non-null  int64  \n",
            " 2   ad_name_contract_type_ct           1048575 non-null  object \n",
            " 3   ad_amt_annuity_ct                  815566 non-null   float64\n",
            " 4   ad_amt_application_ct              1048575 non-null  float64\n",
            " 5   ad_amt_credit_ct                   1048575 non-null  float64\n",
            " 6   ad_amt_down_payment_ct             489179 non-null   float64\n",
            " 7   ad_amt_goods_price_ct              807610 non-null   float64\n",
            " 8   ad_weekday_appr_process_start_ct   1048575 non-null  object \n",
            " 9   ad_hour_appr_process_start_ct      1048575 non-null  int64  \n",
            " 10  ad_flag_last_appl_per_contract_ct  1048575 non-null  object \n",
            " 11  ad_nflag_last_appl_in_day_ct       1048575 non-null  int64  \n",
            " 12  ad_rate_down_payment_ct            489179 non-null   float64\n",
            " 13  ad_rate_interest_primary_ct        3721 non-null     float64\n",
            " 14  ad_rate_interest_privileged_ct     3721 non-null     float64\n",
            " 15  ad_name_cash_loan_purpose_ct       1048575 non-null  object \n",
            " 16  ad_name_contract_status_ct         1048575 non-null  object \n",
            " 17  ad_days_decision_ct                1048575 non-null  int64  \n",
            " 18  ad_name_payment_type_ct            1048575 non-null  object \n",
            " 19  ad_code_reject_reason_ct           1048575 non-null  object \n",
            " 20  ad_name_type_suite_ct              533435 non-null   object \n",
            " 21  ad_name_client_type_ct             1048575 non-null  object \n",
            " 22  ad_name_goods_category_ct          1048575 non-null  object \n",
            " 23  ad_name_portfolio_ct               1048575 non-null  object \n",
            " 24  ad_name_product_type_ct            1048575 non-null  object \n",
            " 25  ad_channel_type_ct                 1048575 non-null  object \n",
            " 26  ad_sellerplace_area_ct             1048575 non-null  int64  \n",
            " 27  ad_name_seller_industry_ct         1048575 non-null  object \n",
            " 28  ad_cnt_payment_ct                  815569 non-null   float64\n",
            " 29  ad_name_yield_group_ct             1048575 non-null  object \n",
            " 30  ad_product_combination_ct          1048351 non-null  object \n",
            " 31  ad_days_first_drawing_ct           627867 non-null   float64\n",
            " 32  ad_days_first_due_ct               627867 non-null   float64\n",
            " 33  ad_days_last_due_1st_version_ct    627867 non-null   float64\n",
            " 34  ad_days_last_due_ct                627867 non-null   float64\n",
            " 35  ad_days_termination_ct             627867 non-null   float64\n",
            " 36  ad_nflag_insured_on_approval_ct    627867 non-null   float64\n",
            "dtypes: float64(15), int64(6), object(16)\n",
            "memory usage: 296.0+ MB\n"
          ]
        }
      ]
    },
    {
      "cell_type": "code",
      "source": [
        "#Checking numeric values of dataframes\n"
      ],
      "metadata": {
        "id": "WKGtBHuNbvvD"
      },
      "execution_count": null,
      "outputs": []
    },
    {
      "cell_type": "code",
      "source": [
        "#Count null values\n",
        "ap_data.isnull().sum()"
      ],
      "metadata": {
        "colab": {
          "base_uri": "https://localhost:8080/"
        },
        "id": "q5IfrHzce343",
        "outputId": "e7c20588-6a00-4e30-e687-ba9ca6c46e9a"
      },
      "execution_count": 29,
      "outputs": [
        {
          "output_type": "execute_result",
          "data": {
            "text/plain": [
              "ad_sk_id_curr_ct                           0\n",
              "ad_target_ct                               0\n",
              "ad_name_contract_type_ct                   0\n",
              "ad_code_gender_ct                          0\n",
              "ad_flag_own_car_ct                         0\n",
              "ad_flag_own_realty_ct                      0\n",
              "ad_cnt_children_ct                         0\n",
              "ad_amt_income_total_ct                     0\n",
              "ad_amt_credit_ct                           0\n",
              "ad_amt_annuity_ct                         12\n",
              "ad_amt_goods_price_ct                    278\n",
              "ad_name_type_suite_ct                   1292\n",
              "ad_name_income_type_ct                     0\n",
              "ad_name_education_type_ct                  0\n",
              "ad_name_family_status_ct                   0\n",
              "ad_name_housing_type_ct                    0\n",
              "ad_region_population_relative_ct           0\n",
              "ad_days_birth_ct                           0\n",
              "ad_days_employed_ct                        0\n",
              "ad_days_registration_ct                    0\n",
              "ad_days_id_publish_ct                      0\n",
              "ad_own_car_age_ct                     202929\n",
              "ad_flag_mobil_ct                           0\n",
              "ad_flag_emp_phone_ct                       0\n",
              "ad_flag_work_phone_ct                      0\n",
              "ad_flag_cont_mobile_ct                     0\n",
              "ad_flag_phone_ct                           0\n",
              "ad_flag_email_ct                           0\n",
              "ad_occupation_type_ct                  96391\n",
              "ad_cnt_fam_members_ct                      2\n",
              "ad_region_rating_client_ct                 0\n",
              "ad_region_rating_client_w_city_ct          0\n",
              "ad_weekday_appr_process_start_ct           0\n",
              "ad_hour_appr_process_start_ct              0\n",
              "ad_reg_region_not_live_region_ct           0\n",
              "ad_reg_region_not_work_region_ct           0\n",
              "ad_live_region_not_work_region_ct          0\n",
              "ad_reg_city_not_live_city_ct               0\n",
              "ad_reg_city_not_work_city_ct               0\n",
              "ad_live_city_not_work_city_ct              0\n",
              "ad_organization_type_ct                    0\n",
              "ad_ext_source_1_ct                    173378\n",
              "ad_ext_source_2_ct                       660\n",
              "ad_ext_source_3_ct                     60965\n",
              "ad_apartments_avg_ct                  156061\n",
              "ad_basementarea_avg_ct                179943\n",
              "ad_years_beginexpluatation_avg_ct     150007\n",
              "ad_years_build_avg_ct                 204488\n",
              "ad_commonarea_avg_ct                  214865\n",
              "ad_elevators_avg_ct                   163891\n",
              "ad_entrances_avg_ct                   154828\n",
              "ad_floorsmax_avg_ct                   153020\n",
              "ad_floorsmin_avg_ct                   208642\n",
              "ad_landarea_avg_ct                    182590\n",
              "ad_livingapartments_avg_ct            210199\n",
              "ad_livingarea_avg_ct                  154350\n",
              "ad_nonlivingapartments_avg_ct         213514\n",
              "ad_nonlivingarea_avg_ct               169682\n",
              "ad_apartments_mode_ct                 156061\n",
              "ad_basementarea_mode_ct               179943\n",
              "ad_years_beginexpluatation_mode_ct    150007\n",
              "ad_years_build_mode_ct                204488\n",
              "ad_commonarea_mode_ct                 214865\n",
              "ad_elevators_mode_ct                  163891\n",
              "ad_entrances_mode_ct                  154828\n",
              "ad_floorsmax_mode_ct                  153020\n",
              "ad_floorsmin_mode_ct                  208642\n",
              "ad_landarea_mode_ct                   182590\n",
              "ad_livingapartments_mode_ct           210199\n",
              "ad_livingarea_mode_ct                 154350\n",
              "ad_nonlivingapartments_mode_ct        213514\n",
              "ad_nonlivingarea_mode_ct              169682\n",
              "ad_apartments_medi_ct                 156061\n",
              "ad_basementarea_medi_ct               179943\n",
              "ad_years_beginexpluatation_medi_ct    150007\n",
              "ad_years_build_medi_ct                204488\n",
              "ad_commonarea_medi_ct                 214865\n",
              "ad_elevators_medi_ct                  163891\n",
              "ad_entrances_medi_ct                  154828\n",
              "ad_floorsmax_medi_ct                  153020\n",
              "ad_floorsmin_medi_ct                  208642\n",
              "ad_landarea_medi_ct                   182590\n",
              "ad_livingapartments_medi_ct           210199\n",
              "ad_livingarea_medi_ct                 154350\n",
              "ad_nonlivingapartments_medi_ct        213514\n",
              "ad_nonlivingarea_medi_ct              169682\n",
              "ad_fondkapremont_mode_ct              210295\n",
              "ad_housetype_mode_ct                  154297\n",
              "ad_totalarea_mode_ct                  148431\n",
              "ad_wallsmaterial_mode_ct              156341\n",
              "ad_emergencystate_mode_ct             145755\n",
              "ad_obs_30_cnt_social_circle_ct          1021\n",
              "ad_def_30_cnt_social_circle_ct          1021\n",
              "ad_obs_60_cnt_social_circle_ct          1021\n",
              "ad_def_60_cnt_social_circle_ct          1021\n",
              "ad_days_last_phone_change_ct               1\n",
              "ad_flag_document_2_ct                      0\n",
              "ad_flag_document_3_ct                      0\n",
              "ad_flag_document_4_ct                      0\n",
              "ad_flag_document_5_ct                      0\n",
              "ad_flag_document_6_ct                      0\n",
              "ad_flag_document_7_ct                      0\n",
              "ad_flag_document_8_ct                      0\n",
              "ad_flag_document_9_ct                      0\n",
              "ad_flag_document_10_ct                     0\n",
              "ad_flag_document_11_ct                     0\n",
              "ad_flag_document_12_ct                     0\n",
              "ad_flag_document_13_ct                     0\n",
              "ad_flag_document_14_ct                     0\n",
              "ad_flag_document_15_ct                     0\n",
              "ad_flag_document_16_ct                     0\n",
              "ad_flag_document_17_ct                     0\n",
              "ad_flag_document_18_ct                     0\n",
              "ad_flag_document_19_ct                     0\n",
              "ad_flag_document_20_ct                     0\n",
              "ad_flag_document_21_ct                     0\n",
              "ad_amt_req_credit_bureau_hour_ct       41519\n",
              "ad_amt_req_credit_bureau_day_ct        41519\n",
              "ad_amt_req_credit_bureau_week_ct       41519\n",
              "ad_amt_req_credit_bureau_mon_ct        41519\n",
              "ad_amt_req_credit_bureau_qrt_ct        41519\n",
              "ad_amt_req_credit_bureau_year_ct       41519\n",
              "dtype: int64"
            ]
          },
          "metadata": {},
          "execution_count": 29
        }
      ]
    },
    {
      "cell_type": "code",
      "source": [
        "#Count null values\n",
        "ap_prev.isnull().sum()"
      ],
      "metadata": {
        "colab": {
          "base_uri": "https://localhost:8080/"
        },
        "id": "Xe6-JpBPfF80",
        "outputId": "367c3968-4003-45ef-974c-5b80fcf16320"
      },
      "execution_count": 30,
      "outputs": [
        {
          "output_type": "execute_result",
          "data": {
            "text/plain": [
              "ad_sk_id_prev _ct                          0\n",
              "ad_sk_id_curr_ct                           0\n",
              "ad_name_contract_type_ct                   0\n",
              "ad_amt_annuity_ct                     233009\n",
              "ad_amt_application_ct                      0\n",
              "ad_amt_credit_ct                           0\n",
              "ad_amt_down_payment_ct                559396\n",
              "ad_amt_goods_price_ct                 240965\n",
              "ad_weekday_appr_process_start_ct           0\n",
              "ad_hour_appr_process_start_ct              0\n",
              "ad_flag_last_appl_per_contract_ct          0\n",
              "ad_nflag_last_appl_in_day_ct               0\n",
              "ad_rate_down_payment_ct               559396\n",
              "ad_rate_interest_primary_ct          1044854\n",
              "ad_rate_interest_privileged_ct       1044854\n",
              "ad_name_cash_loan_purpose_ct               0\n",
              "ad_name_contract_status_ct                 0\n",
              "ad_days_decision_ct                        0\n",
              "ad_name_payment_type_ct                    0\n",
              "ad_code_reject_reason_ct                   0\n",
              "ad_name_type_suite_ct                 515140\n",
              "ad_name_client_type_ct                     0\n",
              "ad_name_goods_category_ct                  0\n",
              "ad_name_portfolio_ct                       0\n",
              "ad_name_product_type_ct                    0\n",
              "ad_channel_type_ct                         0\n",
              "ad_sellerplace_area_ct                     0\n",
              "ad_name_seller_industry_ct                 0\n",
              "ad_cnt_payment_ct                     233006\n",
              "ad_name_yield_group_ct                     0\n",
              "ad_product_combination_ct                224\n",
              "ad_days_first_drawing_ct              420708\n",
              "ad_days_first_due_ct                  420708\n",
              "ad_days_last_due_1st_version_ct       420708\n",
              "ad_days_last_due_ct                   420708\n",
              "ad_days_termination_ct                420708\n",
              "ad_nflag_insured_on_approval_ct       420708\n",
              "dtype: int64"
            ]
          },
          "metadata": {},
          "execution_count": 30
        }
      ]
    },
    {
      "cell_type": "code",
      "source": [
        "#% of null values\n",
        "ap_data_null_per=100*ap_data.isnull().sum()/len(ap_data)\n",
        "ap_data_null_per"
      ],
      "metadata": {
        "colab": {
          "base_uri": "https://localhost:8080/"
        },
        "id": "sFSUcqjBfKeO",
        "outputId": "8c198f1f-8cf4-470f-a670-8ffe1292fe07"
      },
      "execution_count": 36,
      "outputs": [
        {
          "output_type": "execute_result",
          "data": {
            "text/plain": [
              "ad_sk_id_curr_ct                       0.000000\n",
              "ad_target_ct                           0.000000\n",
              "ad_name_contract_type_ct               0.000000\n",
              "ad_code_gender_ct                      0.000000\n",
              "ad_flag_own_car_ct                     0.000000\n",
              "ad_flag_own_realty_ct                  0.000000\n",
              "ad_cnt_children_ct                     0.000000\n",
              "ad_amt_income_total_ct                 0.000000\n",
              "ad_amt_credit_ct                       0.000000\n",
              "ad_amt_annuity_ct                      0.003902\n",
              "ad_amt_goods_price_ct                  0.090403\n",
              "ad_name_type_suite_ct                  0.420148\n",
              "ad_name_income_type_ct                 0.000000\n",
              "ad_name_education_type_ct              0.000000\n",
              "ad_name_family_status_ct               0.000000\n",
              "ad_name_housing_type_ct                0.000000\n",
              "ad_region_population_relative_ct       0.000000\n",
              "ad_days_birth_ct                       0.000000\n",
              "ad_days_employed_ct                    0.000000\n",
              "ad_days_registration_ct                0.000000\n",
              "ad_days_id_publish_ct                  0.000000\n",
              "ad_own_car_age_ct                     65.990810\n",
              "ad_flag_mobil_ct                       0.000000\n",
              "ad_flag_emp_phone_ct                   0.000000\n",
              "ad_flag_work_phone_ct                  0.000000\n",
              "ad_flag_cont_mobile_ct                 0.000000\n",
              "ad_flag_phone_ct                       0.000000\n",
              "ad_flag_email_ct                       0.000000\n",
              "ad_occupation_type_ct                 31.345545\n",
              "ad_cnt_fam_members_ct                  0.000650\n",
              "ad_region_rating_client_ct             0.000000\n",
              "ad_region_rating_client_w_city_ct      0.000000\n",
              "ad_weekday_appr_process_start_ct       0.000000\n",
              "ad_hour_appr_process_start_ct          0.000000\n",
              "ad_reg_region_not_live_region_ct       0.000000\n",
              "ad_reg_region_not_work_region_ct       0.000000\n",
              "ad_live_region_not_work_region_ct      0.000000\n",
              "ad_reg_city_not_live_city_ct           0.000000\n",
              "ad_reg_city_not_work_city_ct           0.000000\n",
              "ad_live_city_not_work_city_ct          0.000000\n",
              "ad_organization_type_ct                0.000000\n",
              "ad_ext_source_1_ct                    56.381073\n",
              "ad_ext_source_2_ct                     0.214626\n",
              "ad_ext_source_3_ct                    19.825307\n",
              "ad_apartments_avg_ct                  50.749729\n",
              "ad_basementarea_avg_ct                58.515956\n",
              "ad_years_beginexpluatation_avg_ct     48.781019\n",
              "ad_years_build_avg_ct                 66.497784\n",
              "ad_commonarea_avg_ct                  69.872297\n",
              "ad_elevators_avg_ct                   53.295980\n",
              "ad_entrances_avg_ct                   50.348768\n",
              "ad_floorsmax_avg_ct                   49.760822\n",
              "ad_floorsmin_avg_ct                   67.848630\n",
              "ad_landarea_avg_ct                    59.376738\n",
              "ad_livingapartments_avg_ct            68.354953\n",
              "ad_livingarea_avg_ct                  50.193326\n",
              "ad_nonlivingapartments_avg_ct         69.432963\n",
              "ad_nonlivingarea_avg_ct               55.179164\n",
              "ad_apartments_mode_ct                 50.749729\n",
              "ad_basementarea_mode_ct               58.515956\n",
              "ad_years_beginexpluatation_mode_ct    48.781019\n",
              "ad_years_build_mode_ct                66.497784\n",
              "ad_commonarea_mode_ct                 69.872297\n",
              "ad_elevators_mode_ct                  53.295980\n",
              "ad_entrances_mode_ct                  50.348768\n",
              "ad_floorsmax_mode_ct                  49.760822\n",
              "ad_floorsmin_mode_ct                  67.848630\n",
              "ad_landarea_mode_ct                   59.376738\n",
              "ad_livingapartments_mode_ct           68.354953\n",
              "ad_livingarea_mode_ct                 50.193326\n",
              "ad_nonlivingapartments_mode_ct        69.432963\n",
              "ad_nonlivingarea_mode_ct              55.179164\n",
              "ad_apartments_medi_ct                 50.749729\n",
              "ad_basementarea_medi_ct               58.515956\n",
              "ad_years_beginexpluatation_medi_ct    48.781019\n",
              "ad_years_build_medi_ct                66.497784\n",
              "ad_commonarea_medi_ct                 69.872297\n",
              "ad_elevators_medi_ct                  53.295980\n",
              "ad_entrances_medi_ct                  50.348768\n",
              "ad_floorsmax_medi_ct                  49.760822\n",
              "ad_floorsmin_medi_ct                  67.848630\n",
              "ad_landarea_medi_ct                   59.376738\n",
              "ad_livingapartments_medi_ct           68.354953\n",
              "ad_livingarea_medi_ct                 50.193326\n",
              "ad_nonlivingapartments_medi_ct        69.432963\n",
              "ad_nonlivingarea_medi_ct              55.179164\n",
              "ad_fondkapremont_mode_ct              68.386172\n",
              "ad_housetype_mode_ct                  50.176091\n",
              "ad_totalarea_mode_ct                  48.268517\n",
              "ad_wallsmaterial_mode_ct              50.840783\n",
              "ad_emergencystate_mode_ct             47.398304\n",
              "ad_obs_30_cnt_social_circle_ct         0.332021\n",
              "ad_def_30_cnt_social_circle_ct         0.332021\n",
              "ad_obs_60_cnt_social_circle_ct         0.332021\n",
              "ad_def_60_cnt_social_circle_ct         0.332021\n",
              "ad_days_last_phone_change_ct           0.000325\n",
              "ad_flag_document_2_ct                  0.000000\n",
              "ad_flag_document_3_ct                  0.000000\n",
              "ad_flag_document_4_ct                  0.000000\n",
              "ad_flag_document_5_ct                  0.000000\n",
              "ad_flag_document_6_ct                  0.000000\n",
              "ad_flag_document_7_ct                  0.000000\n",
              "ad_flag_document_8_ct                  0.000000\n",
              "ad_flag_document_9_ct                  0.000000\n",
              "ad_flag_document_10_ct                 0.000000\n",
              "ad_flag_document_11_ct                 0.000000\n",
              "ad_flag_document_12_ct                 0.000000\n",
              "ad_flag_document_13_ct                 0.000000\n",
              "ad_flag_document_14_ct                 0.000000\n",
              "ad_flag_document_15_ct                 0.000000\n",
              "ad_flag_document_16_ct                 0.000000\n",
              "ad_flag_document_17_ct                 0.000000\n",
              "ad_flag_document_18_ct                 0.000000\n",
              "ad_flag_document_19_ct                 0.000000\n",
              "ad_flag_document_20_ct                 0.000000\n",
              "ad_flag_document_21_ct                 0.000000\n",
              "ad_amt_req_credit_bureau_hour_ct      13.501631\n",
              "ad_amt_req_credit_bureau_day_ct       13.501631\n",
              "ad_amt_req_credit_bureau_week_ct      13.501631\n",
              "ad_amt_req_credit_bureau_mon_ct       13.501631\n",
              "ad_amt_req_credit_bureau_qrt_ct       13.501631\n",
              "ad_amt_req_credit_bureau_year_ct      13.501631\n",
              "dtype: float64"
            ]
          },
          "metadata": {},
          "execution_count": 36
        }
      ]
    },
    {
      "cell_type": "code",
      "source": [
        "#% of null values\n",
        "ap_prev_null_per=100*ap_prev.isnull().sum()/len(ap_prev)\n",
        "ap_prev_null_per"
      ],
      "metadata": {
        "colab": {
          "base_uri": "https://localhost:8080/"
        },
        "id": "-yBLpZNpgeZW",
        "outputId": "3cfba42b-5b62-4b17-e33c-54b0df7ba7c5"
      },
      "execution_count": 37,
      "outputs": [
        {
          "output_type": "execute_result",
          "data": {
            "text/plain": [
              "ad_sk_id_prev _ct                     0.000000\n",
              "ad_sk_id_curr_ct                      0.000000\n",
              "ad_name_contract_type_ct              0.000000\n",
              "ad_amt_annuity_ct                    22.221491\n",
              "ad_amt_application_ct                 0.000000\n",
              "ad_amt_credit_ct                      0.000000\n",
              "ad_amt_down_payment_ct               53.348211\n",
              "ad_amt_goods_price_ct                22.980235\n",
              "ad_weekday_appr_process_start_ct      0.000000\n",
              "ad_hour_appr_process_start_ct         0.000000\n",
              "ad_flag_last_appl_per_contract_ct     0.000000\n",
              "ad_nflag_last_appl_in_day_ct          0.000000\n",
              "ad_rate_down_payment_ct              53.348211\n",
              "ad_rate_interest_primary_ct          99.645137\n",
              "ad_rate_interest_privileged_ct       99.645137\n",
              "ad_name_cash_loan_purpose_ct          0.000000\n",
              "ad_name_contract_status_ct            0.000000\n",
              "ad_days_decision_ct                   0.000000\n",
              "ad_name_payment_type_ct               0.000000\n",
              "ad_code_reject_reason_ct              0.000000\n",
              "ad_name_type_suite_ct                49.127626\n",
              "ad_name_client_type_ct                0.000000\n",
              "ad_name_goods_category_ct             0.000000\n",
              "ad_name_portfolio_ct                  0.000000\n",
              "ad_name_product_type_ct               0.000000\n",
              "ad_channel_type_ct                    0.000000\n",
              "ad_sellerplace_area_ct                0.000000\n",
              "ad_name_seller_industry_ct            0.000000\n",
              "ad_cnt_payment_ct                    22.221205\n",
              "ad_name_yield_group_ct                0.000000\n",
              "ad_product_combination_ct             0.021362\n",
              "ad_days_first_drawing_ct             40.121880\n",
              "ad_days_first_due_ct                 40.121880\n",
              "ad_days_last_due_1st_version_ct      40.121880\n",
              "ad_days_last_due_ct                  40.121880\n",
              "ad_days_termination_ct               40.121880\n",
              "ad_nflag_insured_on_approval_ct      40.121880\n",
              "dtype: float64"
            ]
          },
          "metadata": {},
          "execution_count": 37
        }
      ]
    },
    {
      "cell_type": "code",
      "source": [
        "#Sort null values\n",
        "ap_data.isnull().sum().sort_values(ascending=False)"
      ],
      "metadata": {
        "colab": {
          "base_uri": "https://localhost:8080/"
        },
        "id": "8O1i2DprdFjW",
        "outputId": "2dc4d269-51c1-4825-affa-fd7f2c942b3a"
      },
      "execution_count": 28,
      "outputs": [
        {
          "output_type": "execute_result",
          "data": {
            "text/plain": [
              "ad_commonarea_medi_ct                 214865\n",
              "ad_commonarea_avg_ct                  214865\n",
              "ad_commonarea_mode_ct                 214865\n",
              "ad_nonlivingapartments_mode_ct        213514\n",
              "ad_nonlivingapartments_avg_ct         213514\n",
              "ad_nonlivingapartments_medi_ct        213514\n",
              "ad_fondkapremont_mode_ct              210295\n",
              "ad_livingapartments_mode_ct           210199\n",
              "ad_livingapartments_avg_ct            210199\n",
              "ad_livingapartments_medi_ct           210199\n",
              "ad_floorsmin_avg_ct                   208642\n",
              "ad_floorsmin_mode_ct                  208642\n",
              "ad_floorsmin_medi_ct                  208642\n",
              "ad_years_build_medi_ct                204488\n",
              "ad_years_build_mode_ct                204488\n",
              "ad_years_build_avg_ct                 204488\n",
              "ad_own_car_age_ct                     202929\n",
              "ad_landarea_medi_ct                   182590\n",
              "ad_landarea_mode_ct                   182590\n",
              "ad_landarea_avg_ct                    182590\n",
              "ad_basementarea_medi_ct               179943\n",
              "ad_basementarea_avg_ct                179943\n",
              "ad_basementarea_mode_ct               179943\n",
              "ad_ext_source_1_ct                    173378\n",
              "ad_nonlivingarea_mode_ct              169682\n",
              "ad_nonlivingarea_avg_ct               169682\n",
              "ad_nonlivingarea_medi_ct              169682\n",
              "ad_elevators_medi_ct                  163891\n",
              "ad_elevators_avg_ct                   163891\n",
              "ad_elevators_mode_ct                  163891\n",
              "ad_wallsmaterial_mode_ct              156341\n",
              "ad_apartments_medi_ct                 156061\n",
              "ad_apartments_avg_ct                  156061\n",
              "ad_apartments_mode_ct                 156061\n",
              "ad_entrances_medi_ct                  154828\n",
              "ad_entrances_avg_ct                   154828\n",
              "ad_entrances_mode_ct                  154828\n",
              "ad_livingarea_avg_ct                  154350\n",
              "ad_livingarea_mode_ct                 154350\n",
              "ad_livingarea_medi_ct                 154350\n",
              "ad_housetype_mode_ct                  154297\n",
              "ad_floorsmax_mode_ct                  153020\n",
              "ad_floorsmax_medi_ct                  153020\n",
              "ad_floorsmax_avg_ct                   153020\n",
              "ad_years_beginexpluatation_mode_ct    150007\n",
              "ad_years_beginexpluatation_medi_ct    150007\n",
              "ad_years_beginexpluatation_avg_ct     150007\n",
              "ad_totalarea_mode_ct                  148431\n",
              "ad_emergencystate_mode_ct             145755\n",
              "ad_occupation_type_ct                  96391\n",
              "ad_ext_source_3_ct                     60965\n",
              "ad_amt_req_credit_bureau_hour_ct       41519\n",
              "ad_amt_req_credit_bureau_day_ct        41519\n",
              "ad_amt_req_credit_bureau_week_ct       41519\n",
              "ad_amt_req_credit_bureau_mon_ct        41519\n",
              "ad_amt_req_credit_bureau_qrt_ct        41519\n",
              "ad_amt_req_credit_bureau_year_ct       41519\n",
              "ad_name_type_suite_ct                   1292\n",
              "ad_obs_30_cnt_social_circle_ct          1021\n",
              "ad_def_30_cnt_social_circle_ct          1021\n",
              "ad_obs_60_cnt_social_circle_ct          1021\n",
              "ad_def_60_cnt_social_circle_ct          1021\n",
              "ad_ext_source_2_ct                       660\n",
              "ad_amt_goods_price_ct                    278\n",
              "ad_amt_annuity_ct                         12\n",
              "ad_cnt_fam_members_ct                      2\n",
              "ad_days_last_phone_change_ct               1\n",
              "ad_cnt_children_ct                         0\n",
              "ad_flag_document_8_ct                      0\n",
              "ad_name_contract_type_ct                   0\n",
              "ad_code_gender_ct                          0\n",
              "ad_flag_own_car_ct                         0\n",
              "ad_flag_document_2_ct                      0\n",
              "ad_flag_document_3_ct                      0\n",
              "ad_flag_document_4_ct                      0\n",
              "ad_flag_document_5_ct                      0\n",
              "ad_flag_document_6_ct                      0\n",
              "ad_flag_document_7_ct                      0\n",
              "ad_flag_document_9_ct                      0\n",
              "ad_flag_document_21_ct                     0\n",
              "ad_flag_document_10_ct                     0\n",
              "ad_flag_document_11_ct                     0\n",
              "ad_flag_own_realty_ct                      0\n",
              "ad_flag_document_13_ct                     0\n",
              "ad_flag_document_14_ct                     0\n",
              "ad_flag_document_15_ct                     0\n",
              "ad_flag_document_16_ct                     0\n",
              "ad_flag_document_17_ct                     0\n",
              "ad_flag_document_18_ct                     0\n",
              "ad_flag_document_19_ct                     0\n",
              "ad_flag_document_20_ct                     0\n",
              "ad_flag_document_12_ct                     0\n",
              "ad_amt_credit_ct                           0\n",
              "ad_amt_income_total_ct                     0\n",
              "ad_flag_phone_ct                           0\n",
              "ad_live_city_not_work_city_ct              0\n",
              "ad_reg_city_not_work_city_ct               0\n",
              "ad_target_ct                               0\n",
              "ad_reg_city_not_live_city_ct               0\n",
              "ad_live_region_not_work_region_ct          0\n",
              "ad_reg_region_not_work_region_ct           0\n",
              "ad_reg_region_not_live_region_ct           0\n",
              "ad_hour_appr_process_start_ct              0\n",
              "ad_weekday_appr_process_start_ct           0\n",
              "ad_region_rating_client_w_city_ct          0\n",
              "ad_region_rating_client_ct                 0\n",
              "ad_flag_email_ct                           0\n",
              "ad_flag_cont_mobile_ct                     0\n",
              "ad_organization_type_ct                    0\n",
              "ad_flag_work_phone_ct                      0\n",
              "ad_flag_emp_phone_ct                       0\n",
              "ad_flag_mobil_ct                           0\n",
              "ad_days_id_publish_ct                      0\n",
              "ad_days_registration_ct                    0\n",
              "ad_days_employed_ct                        0\n",
              "ad_days_birth_ct                           0\n",
              "ad_region_population_relative_ct           0\n",
              "ad_name_housing_type_ct                    0\n",
              "ad_name_family_status_ct                   0\n",
              "ad_name_education_type_ct                  0\n",
              "ad_name_income_type_ct                     0\n",
              "ad_sk_id_curr_ct                           0\n",
              "dtype: int64"
            ]
          },
          "metadata": {},
          "execution_count": 28
        }
      ]
    },
    {
      "cell_type": "code",
      "source": [
        "#Count null values\n",
        "ap_prev.isnull().sum().sort_values(ascending=False)"
      ],
      "metadata": {
        "colab": {
          "base_uri": "https://localhost:8080/"
        },
        "id": "HQN1vSUCdIBL",
        "outputId": "3cd37435-96cc-4ed2-9d5d-53f35f482089"
      },
      "execution_count": 25,
      "outputs": [
        {
          "output_type": "execute_result",
          "data": {
            "text/plain": [
              "ad_rate_interest_privileged_ct       1044854\n",
              "ad_rate_interest_primary_ct          1044854\n",
              "ad_rate_down_payment_ct               559396\n",
              "ad_amt_down_payment_ct                559396\n",
              "ad_name_type_suite_ct                 515140\n",
              "ad_nflag_insured_on_approval_ct       420708\n",
              "ad_days_first_drawing_ct              420708\n",
              "ad_days_first_due_ct                  420708\n",
              "ad_days_last_due_1st_version_ct       420708\n",
              "ad_days_last_due_ct                   420708\n",
              "ad_days_termination_ct                420708\n",
              "ad_amt_goods_price_ct                 240965\n",
              "ad_amt_annuity_ct                     233009\n",
              "ad_cnt_payment_ct                     233006\n",
              "ad_product_combination_ct                224\n",
              "ad_channel_type_ct                         0\n",
              "ad_name_product_type_ct                    0\n",
              "ad_name_yield_group_ct                     0\n",
              "ad_sellerplace_area_ct                     0\n",
              "ad_name_seller_industry_ct                 0\n",
              "ad_name_goods_category_ct                  0\n",
              "ad_name_portfolio_ct                       0\n",
              "ad_sk_id_prev _ct                          0\n",
              "ad_name_client_type_ct                     0\n",
              "ad_code_reject_reason_ct                   0\n",
              "ad_sk_id_curr_ct                           0\n",
              "ad_days_decision_ct                        0\n",
              "ad_name_contract_status_ct                 0\n",
              "ad_name_cash_loan_purpose_ct               0\n",
              "ad_nflag_last_appl_in_day_ct               0\n",
              "ad_flag_last_appl_per_contract_ct          0\n",
              "ad_hour_appr_process_start_ct              0\n",
              "ad_weekday_appr_process_start_ct           0\n",
              "ad_amt_credit_ct                           0\n",
              "ad_amt_application_ct                      0\n",
              "ad_name_contract_type_ct                   0\n",
              "ad_name_payment_type_ct                    0\n",
              "dtype: int64"
            ]
          },
          "metadata": {},
          "execution_count": 25
        }
      ]
    },
    {
      "cell_type": "code",
      "source": [
        "#Dealing with null values\n",
        "null_col_50=ap_data_null_per[ap_data_null_per>50].sort_values()\n",
        "null_col_50"
      ],
      "metadata": {
        "colab": {
          "base_uri": "https://localhost:8080/"
        },
        "id": "5Im4MNI7de9p",
        "outputId": "b10930cf-549b-48ac-e4f6-6e195d0e2dc0"
      },
      "execution_count": 40,
      "outputs": [
        {
          "output_type": "execute_result",
          "data": {
            "text/plain": [
              "ad_housetype_mode_ct              50.176091\n",
              "ad_livingarea_avg_ct              50.193326\n",
              "ad_livingarea_medi_ct             50.193326\n",
              "ad_livingarea_mode_ct             50.193326\n",
              "ad_entrances_avg_ct               50.348768\n",
              "ad_entrances_mode_ct              50.348768\n",
              "ad_entrances_medi_ct              50.348768\n",
              "ad_apartments_avg_ct              50.749729\n",
              "ad_apartments_medi_ct             50.749729\n",
              "ad_apartments_mode_ct             50.749729\n",
              "ad_wallsmaterial_mode_ct          50.840783\n",
              "ad_elevators_avg_ct               53.295980\n",
              "ad_elevators_mode_ct              53.295980\n",
              "ad_elevators_medi_ct              53.295980\n",
              "ad_nonlivingarea_medi_ct          55.179164\n",
              "ad_nonlivingarea_mode_ct          55.179164\n",
              "ad_nonlivingarea_avg_ct           55.179164\n",
              "ad_ext_source_1_ct                56.381073\n",
              "ad_basementarea_mode_ct           58.515956\n",
              "ad_basementarea_medi_ct           58.515956\n",
              "ad_basementarea_avg_ct            58.515956\n",
              "ad_landarea_avg_ct                59.376738\n",
              "ad_landarea_medi_ct               59.376738\n",
              "ad_landarea_mode_ct               59.376738\n",
              "ad_own_car_age_ct                 65.990810\n",
              "ad_years_build_mode_ct            66.497784\n",
              "ad_years_build_medi_ct            66.497784\n",
              "ad_years_build_avg_ct             66.497784\n",
              "ad_floorsmin_medi_ct              67.848630\n",
              "ad_floorsmin_avg_ct               67.848630\n",
              "ad_floorsmin_mode_ct              67.848630\n",
              "ad_livingapartments_mode_ct       68.354953\n",
              "ad_livingapartments_avg_ct        68.354953\n",
              "ad_livingapartments_medi_ct       68.354953\n",
              "ad_fondkapremont_mode_ct          68.386172\n",
              "ad_nonlivingapartments_avg_ct     69.432963\n",
              "ad_nonlivingapartments_medi_ct    69.432963\n",
              "ad_nonlivingapartments_mode_ct    69.432963\n",
              "ad_commonarea_mode_ct             69.872297\n",
              "ad_commonarea_medi_ct             69.872297\n",
              "ad_commonarea_avg_ct              69.872297\n",
              "dtype: float64"
            ]
          },
          "metadata": {},
          "execution_count": 40
        }
      ]
    },
    {
      "cell_type": "code",
      "source": [
        "#Dealing with null values\n",
        "null_col_50_prev=ap_prev_null_per[ap_prev_null_per>50].sort_values()\n",
        "null_col_50_prev"
      ],
      "metadata": {
        "colab": {
          "base_uri": "https://localhost:8080/"
        },
        "id": "cNjos0gPiXdq",
        "outputId": "f4934f02-03a7-4d12-cd9c-65a304704117"
      },
      "execution_count": 41,
      "outputs": [
        {
          "output_type": "execute_result",
          "data": {
            "text/plain": [
              "ad_amt_down_payment_ct            53.348211\n",
              "ad_rate_down_payment_ct           53.348211\n",
              "ad_rate_interest_primary_ct       99.645137\n",
              "ad_rate_interest_privileged_ct    99.645137\n",
              "dtype: float64"
            ]
          },
          "metadata": {},
          "execution_count": 41
        }
      ]
    },
    {
      "cell_type": "code",
      "source": [
        "#print number of columns having null values more than 50%\n",
        "print('Number of columns having null values more than 50% in application is ',null_col_50.shape[0])\n",
        "print('Number of columns having null values more than 50% in previous application is ',null_col_50_prev.shape[0])"
      ],
      "metadata": {
        "colab": {
          "base_uri": "https://localhost:8080/"
        },
        "id": "m4j4Oec9ilnF",
        "outputId": "dc911ce3-a08a-4106-9273-8035580d8d39"
      },
      "execution_count": 45,
      "outputs": [
        {
          "output_type": "stream",
          "name": "stdout",
          "text": [
            "Number of columns having null values more than 50% in application is  41\n",
            "Number of columns having null values more than 50% in previous application is  4\n"
          ]
        }
      ]
    },
    {
      "cell_type": "code",
      "source": [
        "#Drop columns having missing values\n",
        "temp1=null_col_50.values\n",
        "temp1\n",
        "# temp1=ap_data\n",
        "# temp1.drop(columns=null_col_50)\n",
        "#temp1\n"
      ],
      "metadata": {
        "colab": {
          "base_uri": "https://localhost:8080/"
        },
        "id": "BMhC7Jhbji5c",
        "outputId": "0fbfe392-83b6-4f0d-9bae-d18e80fef59f"
      },
      "execution_count": 47,
      "outputs": [
        {
          "output_type": "execute_result",
          "data": {
            "text/plain": [
              "array([50.17609126, 50.19332642, 50.19332642, 50.19332642, 50.34876801,\n",
              "       50.34876801, 50.34876801, 50.74972928, 50.74972928, 50.74972928,\n",
              "       50.84078293, 53.29597966, 53.29597966, 53.29597966, 55.17916432,\n",
              "       55.17916432, 55.17916432, 56.38107255, 58.51595553, 58.51595553,\n",
              "       58.51595553, 59.37673774, 59.37673774, 59.37673774, 65.99081008,\n",
              "       66.49778382, 66.49778382, 66.49778382, 67.84862981, 67.84862981,\n",
              "       67.84862981, 68.35495316, 68.35495316, 68.35495316, 68.38617155,\n",
              "       69.43296337, 69.43296337, 69.43296337, 69.87229725, 69.87229725,\n",
              "       69.87229725])"
            ]
          },
          "metadata": {},
          "execution_count": 47
        }
      ]
    }
  ]
}